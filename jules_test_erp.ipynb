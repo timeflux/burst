{
 "cells": [
  {
   "cell_type": "code",
   "execution_count": null,
   "metadata": {},
   "outputs": [],
   "source": []
  },
  {
   "cell_type": "code",
   "execution_count": null,
   "metadata": {},
   "outputs": [],
   "source": [
    "import pandas as pd\n",
    "from collection import deque\n",
    "import numpy as np\n",
    "import pandas as pd\n",
    "from collections import deque\n",
    "from timeflux.core.node import Node"
   ]
  },
  {
   "cell_type": "code",
   "execution_count": null,
   "metadata": {},
   "outputs": [],
   "source": [
    "class Erp(Node):\n",
    "    \"\"\" Sliding ERP mean computation\n",
    "\n",
    "    This node accumulates ERP with a buffer from epoched data.\n",
    "    It keeps trace of the number of epochs and computes the mean ERP.\n",
    "\n",
    "    Args:\n",
    "        buffer_size (int): Number of epochs to accumulate in the buffer (default: 20).\n",
    "        \n",
    "    Attributes:\n",
    "        i (Port): Default input, expects DataFrame.\n",
    "        o (Port): Default output, provides DataFrame\n",
    "    \"\"\"\n",
    "\n",
    "    def __init__(self, buffer_size=20):\n",
    "        self.buffer_size = buffer_size\n",
    "        self.reset()\n",
    "\n",
    "    def reset(self):\n",
    "        self.epoch_buffer = deque(maxlen=self.buffer_size)\n",
    "        self.mean_erp = None\n",
    "\n",
    "    def update_mean_erp(self):\n",
    "        if len(self.epoch_buffer) > 0:\n",
    "            concatenated_epochs = pd.concat(self.epoch_buffer)\n",
    "            self.mean_erp = concatenated_epochs.mean(axis=0)\n",
    "        \n",
    "    def update(self):\n",
    "        if not self.i.ready():\n",
    "            return\n",
    "\n",
    "        self.o = self.i\n",
    "\n",
    "        self.epoch_buffer.append(self.o.data)\n",
    "        \n",
    "        self.update_mean_erp()\n",
    "        \n",
    "        if self.mean_erp is not None:\n",
    "            self.mean_erp.reset_index(drop=True, inplace=True)\n",
    "            self.o.data = self.mean_erp\n",
    "\n",
    "    def terminate(self):\n",
    "        self.reset()"
   ]
  }
 ],
 "metadata": {
  "kernelspec": {
   "display_name": "base",
   "language": "python",
   "name": "python3"
  },
  "language_info": {
   "name": "python",
   "version": "3.10.9"
  }
 },
 "nbformat": 4,
 "nbformat_minor": 2
}
