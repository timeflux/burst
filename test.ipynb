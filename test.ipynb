{
 "cells": [
  {
   "cell_type": "code",
   "execution_count": 1,
   "metadata": {},
   "outputs": [
    {
     "data": {
      "text/plain": [
       "['000000001000000000000000000000000000100000001000000000000000000000000000100000000000100000000000000010000000000000000000000000000000',\n",
       " '000000000000000010000000100000000000000000000000000010000000000000001000000000000000000000000000100000000000000010000000000000001000',\n",
       " '000000000000100000000000000010000000000010000000000000000000000000000000000010000000000010000000000000001000000000000000100000000000',\n",
       " '000010000000000000000000000000001000000000000000100000000000000010000000000000001000000000000000000000000000000000001000000000000000',\n",
       " '100000000000000000001000000000000000000000000000000000001000100000000000000000000000000000001000000000000000100000000000000010000000']"
      ]
     },
     "execution_count": 1,
     "metadata": {},
     "output_type": "execute_result"
    }
   ],
   "source": [
    "import numpy as np\n",
    "a = np.load(\"D:\\WurstTeam\\Downloads\\RB_Burst_2200_1f_200_5.npy\")\n",
    "[''.join(list(map(str, c))).replace('11', '10') for c in a]"
   ]
  },
  {
   "cell_type": "code",
   "execution_count": 2,
   "metadata": {},
   "outputs": [],
   "source": []
  },
  {
   "cell_type": "code",
   "execution_count": null,
   "metadata": {},
   "outputs": [],
   "source": []
  },
  {
   "cell_type": "code",
   "execution_count": null,
   "metadata": {},
   "outputs": [],
   "source": []
  }
 ],
 "metadata": {
  "kernelspec": {
   "display_name": "timeflux",
   "language": "python",
   "name": "python3"
  },
  "language_info": {
   "codemirror_mode": {
    "name": "ipython",
    "version": 3
   },
   "file_extension": ".py",
   "mimetype": "text/x-python",
   "name": "python",
   "nbconvert_exporter": "python",
   "pygments_lexer": "ipython3",
   "version": "3.10.13"
  }
 },
 "nbformat": 4,
 "nbformat_minor": 2
}
