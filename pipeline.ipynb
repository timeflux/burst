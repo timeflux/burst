{
 "cells": [
  {
   "cell_type": "code",
   "execution_count": 10,
   "metadata": {},
   "outputs": [],
   "source": [
    "from sklearn.pipeline import make_pipeline, Pipeline\n",
    "#import classification from sklearn\n",
    "from sklearn.ensemble import RandomForestClassifier\n",
    "import numpy as np"
   ]
  },
  {
   "cell_type": "code",
   "execution_count": 12,
   "metadata": {},
   "outputs": [
    {
     "name": "stdout",
     "output_type": "stream",
     "text": [
      "ExtendedPipeline(steps=[('randomforestclassifier', RandomForestClassifier())])\n",
      "[0 1 0 1]\n",
      "[0.5 0.5]\n"
     ]
    }
   ],
   "source": [
    "# Create an extended Pipeline class with cross val score method\n",
    "class ExtendedPipeline(Pipeline):\n",
    "    def cross_val_score(self, X, y, cv=5, **kwargs):\n",
    "        from sklearn.model_selection import cross_val_score\n",
    "        return cross_val_score(self, X, y, cv=cv, **kwargs)\n",
    "    \n",
    "\n",
    "# Create a pipeline with a single step\n",
    "pipe = make_pipeline(RandomForestClassifier())\n",
    "\n",
    "# Extend pipe\n",
    "pipe = ExtendedPipeline(pipe.steps)\n",
    "\n",
    "print(pipe)\n",
    "\n",
    "X = np.ones((30,10,8))\n",
    "Y = np.ones(30)\n",
    "\n",
    "pipe.fit(X, Y)\n",
    "print(pipe.predict(X))\n",
    "print(pipe.cross_val_score(X, Y, cv=2, scoring='accuracy'))"
   ]
  }
 ],
 "metadata": {
  "kernelspec": {
   "display_name": "base",
   "language": "python",
   "name": "python3"
  },
  "language_info": {
   "codemirror_mode": {
    "name": "ipython",
    "version": 3
   },
   "file_extension": ".py",
   "mimetype": "text/x-python",
   "name": "python",
   "nbconvert_exporter": "python",
   "pygments_lexer": "ipython3",
   "version": "3.10.9"
  }
 },
 "nbformat": 4,
 "nbformat_minor": 2
}
